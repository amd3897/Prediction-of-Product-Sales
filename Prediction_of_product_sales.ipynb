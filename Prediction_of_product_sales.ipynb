{
  "nbformat": 4,
  "nbformat_minor": 0,
  "metadata": {
    "colab": {
      "provenance": [],
      "authorship_tag": "ABX9TyNkC87AOiUgWJ72anehphV6",
      "include_colab_link": true
    },
    "kernelspec": {
      "name": "python3",
      "display_name": "Python 3"
    },
    "language_info": {
      "name": "python"
    }
  },
  "cells": [
    {
      "cell_type": "markdown",
      "metadata": {
        "id": "view-in-github",
        "colab_type": "text"
      },
      "source": [
        "<a href=\"https://colab.research.google.com/github/amd3897/Prediction-of-Product-Sales/blob/main/Prediction_of_product_sales.ipynb\" target=\"_parent\"><img src=\"https://colab.research.google.com/assets/colab-badge.svg\" alt=\"Open In Colab\"/></a>"
      ]
    },
    {
      "cell_type": "code",
      "execution_count": null,
      "metadata": {
        "id": "i4_KADNcjuiE"
      },
      "outputs": [],
      "source": []
    },
    {
      "cell_type": "markdown",
      "source": [
        "# Predection of Product Sales\n",
        "- Aziz M Duaibes"
      ],
      "metadata": {
        "id": "NTN0IdWxkGGM"
      }
    },
    {
      "cell_type": "markdown",
      "source": [
        "## Project overview"
      ],
      "metadata": {
        "id": "-0JfuLQKkqsX"
      }
    },
    {
      "cell_type": "markdown",
      "source": [
        "## Load and Inspect Data"
      ],
      "metadata": {
        "id": "nEENcPunk1Wq"
      }
    },
    {
      "cell_type": "markdown",
      "source": [
        "## Clean Data"
      ],
      "metadata": {
        "id": "QUFsf1b1k0-t"
      }
    },
    {
      "cell_type": "markdown",
      "source": [
        "## Exploratory Data Analysis"
      ],
      "metadata": {
        "id": "Wrat_qdwky3L"
      }
    },
    {
      "cell_type": "markdown",
      "source": [
        "## Feature Inspection"
      ],
      "metadata": {
        "id": "GfmQX-KAkzXs"
      }
    }
  ]
}